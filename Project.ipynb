{
 "cells": [
  {
   "cell_type": "code",
   "execution_count": 19,
   "metadata": {},
   "outputs": [],
   "source": [
    "#Importar função randomica\n",
    "import random\n",
    "\n",
    "#Escolha aleatória das portas\n",
    "def simulacao ():\n",
    "    porta_premio = random.randint(1,3)\n",
    "    escolha_inicial = random.randint(1,3)\n",
    "\n",
    "#Escolhe a porta a ser aberta pelo apresentador\n",
    "    if escolha_inicial == porta_premio:\n",
    "        porta_abrir = random.choice([porta for porta in range (1,4) if porta != escolha_inicial])\n",
    "    else:\n",
    "        porta_abrir = random.choice([porta for porta in range (1,4) if porta != escolha_inicial and porta != porta_premio])\n",
    "\n",
    "#Retorna se a escolha final foi a premiada ou não\n",
    "    escolha_final = [porta for porta in range (1,4) if porta != porta_abrir and porta != escolha_inicial][0]\n",
    "\n",
    "    return escolha_final == porta_premio"
   ]
  },
  {
   "cell_type": "code",
   "execution_count": 20,
   "metadata": {},
   "outputs": [
    {
     "name": "stdout",
     "output_type": "stream",
     "text": [
      "A probabilidade de acertos ao mudar de porta é: 66.60 %\n"
     ]
    }
   ],
   "source": [
    "#Recebe quantidade de simulações, simula e imprime percentual de acertos\n",
    "nsimulacoes = int(input(\"Quantas simulações deseja realizar?\"))\n",
    "acertos = sum(simulacao() for _ in range(nsimulacoes))\n",
    "probabilidade = (acertos/nsimulacoes) * 100\n",
    "\n",
    "print(f\"A probabilidade de acertos ao mudar de porta é: {probabilidade:.2f} %\")"
   ]
  }
 ],
 "metadata": {
  "kernelspec": {
   "display_name": "vsconda",
   "language": "python",
   "name": "python3"
  },
  "language_info": {
   "codemirror_mode": {
    "name": "ipython",
    "version": 3
   },
   "file_extension": ".py",
   "mimetype": "text/x-python",
   "name": "python",
   "nbconvert_exporter": "python",
   "pygments_lexer": "ipython3",
   "version": "3.9.18"
  }
 },
 "nbformat": 4,
 "nbformat_minor": 2
}
